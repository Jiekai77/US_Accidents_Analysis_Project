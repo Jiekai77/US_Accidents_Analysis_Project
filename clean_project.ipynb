{
  "nbformat": 4,
  "nbformat_minor": 0,
  "metadata": {
    "colab": {
      "name": "clean_project",
      "provenance": []
    },
    "kernelspec": {
      "name": "python3",
      "display_name": "Python 3"
    }
  },
  "cells": [
    {
      "cell_type": "code",
      "metadata": {
        "id": "j_e7Fs5v_7HE"
      },
      "source": [
        "import pandas as pd\n",
        "import numpy as np \n",
        "import seaborn as sns\n",
        "import matplotlib.pyplot as plt\n",
        "import math"
      ],
      "execution_count": 3,
      "outputs": []
    },
    {
      "cell_type": "code",
      "metadata": {
        "id": "pn7ruCgvGilb"
      },
      "source": [
        "data = pd.read_csv('/content/drive/MyDrive/Colab Notebooks/US_Accidents_Dec20.csv')"
      ],
      "execution_count": 71,
      "outputs": []
    },
    {
      "cell_type": "code",
      "metadata": {
        "colab": {
          "base_uri": "https://localhost:8080/"
        },
        "id": "kZ4S9z7OJoUi",
        "outputId": "5b6b51f9-6d24-4fba-aaa6-af623a2a8ffc"
      },
      "source": [
        "len(data)"
      ],
      "execution_count": 72,
      "outputs": [
        {
          "output_type": "execute_result",
          "data": {
            "text/plain": [
              "4232541"
            ]
          },
          "metadata": {
            "tags": []
          },
          "execution_count": 72
        }
      ]
    },
    {
      "cell_type": "code",
      "metadata": {
        "colab": {
          "base_uri": "https://localhost:8080/"
        },
        "id": "1KJBJridKnwv",
        "outputId": "cefc8efd-a5ae-4a9f-82f2-531f62e13e39"
      },
      "source": [
        "data['Severity'].unique()"
      ],
      "execution_count": 73,
      "outputs": [
        {
          "output_type": "execute_result",
          "data": {
            "text/plain": [
              "array([3, 2, 1, 4])"
            ]
          },
          "metadata": {
            "tags": []
          },
          "execution_count": 73
        }
      ]
    },
    {
      "cell_type": "markdown",
      "metadata": {
        "id": "wBaag6CQfMWR"
      },
      "source": [
        "# fill missing data"
      ]
    },
    {
      "cell_type": "code",
      "metadata": {
        "colab": {
          "base_uri": "https://localhost:8080/"
        },
        "id": "h7qVwPg4LGea",
        "outputId": "b03f6a05-c81d-46c3-86db-6fd65644654c"
      },
      "source": [
        "# check missing data percentage\n",
        "((data.isna().sum()/len(data))*100).sort_values(ascending = False)"
      ],
      "execution_count": 74,
      "outputs": [
        {
          "output_type": "execute_result",
          "data": {
            "text/plain": [
              "End_Lat                  64.180760\n",
              "End_Lng                  64.180760\n",
              "Number                   63.506745\n",
              "Precipitation(in)        48.802575\n",
              "Wind_Chill(F)            44.795809\n",
              "TMC                      35.819240\n",
              "Wind_Speed(mph)          11.324781\n",
              "Visibility(mi)            2.331176\n",
              "Weather_Condition         2.324443\n",
              "Humidity(%)               2.255548\n",
              "Temperature(F)            2.124020\n",
              "Wind_Direction            1.975433\n",
              "Pressure(in)              1.804684\n",
              "Weather_Timestamp         1.480057\n",
              "Airport_Code              0.212000\n",
              "Timezone                  0.109036\n",
              "Zipcode                   0.030525\n",
              "Nautical_Twilight         0.003331\n",
              "Astronomical_Twilight     0.003331\n",
              "Civil_Twilight            0.003331\n",
              "Sunrise_Sunset            0.003331\n",
              "City                      0.003237\n",
              "Description               0.000047\n",
              "Amenity                   0.000000\n",
              "Street                    0.000000\n",
              "Source                    0.000000\n",
              "Severity                  0.000000\n",
              "Start_Time                0.000000\n",
              "End_Time                  0.000000\n",
              "Start_Lat                 0.000000\n",
              "Start_Lng                 0.000000\n",
              "Turning_Loop              0.000000\n",
              "Distance(mi)              0.000000\n",
              "Traffic_Signal            0.000000\n",
              "Side                      0.000000\n",
              "Bump                      0.000000\n",
              "County                    0.000000\n",
              "State                     0.000000\n",
              "Traffic_Calming           0.000000\n",
              "Country                   0.000000\n",
              "Stop                      0.000000\n",
              "Station                   0.000000\n",
              "Roundabout                0.000000\n",
              "Railway                   0.000000\n",
              "No_Exit                   0.000000\n",
              "Junction                  0.000000\n",
              "Give_Way                  0.000000\n",
              "Crossing                  0.000000\n",
              "ID                        0.000000\n",
              "dtype: float64"
            ]
          },
          "metadata": {
            "tags": []
          },
          "execution_count": 74
        }
      ]
    },
    {
      "cell_type": "code",
      "metadata": {
        "id": "NcKLLRT3ME8W"
      },
      "source": [
        "data1 = data"
      ],
      "execution_count": 114,
      "outputs": []
    },
    {
      "cell_type": "code",
      "metadata": {
        "id": "AXI9fvcjLTLk"
      },
      "source": [
        "# deal with the missing data firstly, it's good the target, severity, have no missing data\n",
        "# drop End_Lat End_Lng Precipitation(in) Wind_Chill(F) Number\n",
        "data1 = data1.drop(columns=['End_Lat', 'End_Lng' ,'Precipitation(in)', 'Wind_Chill(F)', 'Number'])"
      ],
      "execution_count": 115,
      "outputs": []
    },
    {
      "cell_type": "code",
      "metadata": {
        "id": "uIlxminxBWp3"
      },
      "source": [
        "data1['TMC']= data1['TMC'].fillna(data1['TMC'].median())"
      ],
      "execution_count": 116,
      "outputs": []
    },
    {
      "cell_type": "code",
      "metadata": {
        "id": "TX8Ld_jOMUcN",
        "colab": {
          "base_uri": "https://localhost:8080/"
        },
        "outputId": "c016284b-1885-464f-c10a-fce04e1c194e"
      },
      "source": [
        "# Wind_Speed(mph)\n",
        "print(data1['Wind_Speed(mph)'].skew())\n",
        "print(data1['Wind_Speed(mph)'].kurt())\n",
        "data1['Wind_Speed(mph)'].describe()\n",
        "# skewed, fill with median\n",
        "data1['Wind_Speed(mph)'] = data1['Wind_Speed(mph)'].fillna(data1['Wind_Speed(mph)'].median())"
      ],
      "execution_count": 117,
      "outputs": [
        {
          "output_type": "stream",
          "text": [
            "12.105134489682545\n",
            "1625.4189457893422\n"
          ],
          "name": "stdout"
        }
      ]
    },
    {
      "cell_type": "code",
      "metadata": {
        "colab": {
          "base_uri": "https://localhost:8080/"
        },
        "id": "P4ot2BzXghK5",
        "outputId": "f81908d9-1d23-4325-a4e1-1554789aded3"
      },
      "source": [
        "#Visibility\n",
        "print(data1['Visibility(mi)'].skew())\n",
        "print(data1['Visibility(mi)'].kurt())\n",
        "data1['Visibility(mi)'].describe()\n",
        "data1['Visibility(mi)'] = data1['Visibility(mi)'].fillna(data1['Visibility(mi)'].median())"
      ],
      "execution_count": 118,
      "outputs": [
        {
          "output_type": "stream",
          "text": [
            "3.4167985735062736\n",
            "86.54814745928923\n"
          ],
          "name": "stdout"
        }
      ]
    },
    {
      "cell_type": "code",
      "metadata": {
        "id": "Q9swYOD8ghIL"
      },
      "source": [
        "#Weather_Condition\n",
        "data1['Weather_Condition'] = data1['Weather_Condition'].fillna('Fair')"
      ],
      "execution_count": 119,
      "outputs": []
    },
    {
      "cell_type": "code",
      "metadata": {
        "colab": {
          "base_uri": "https://localhost:8080/"
        },
        "id": "kebZ1u56fg1u",
        "outputId": "b4caa2f6-9ab3-49e4-eb11-119f59c9c48e"
      },
      "source": [
        "# Humidity\n",
        "print(data1['Humidity(%)'].skew())\n",
        "print(data1['Humidity(%)'].kurt())\n",
        "data1['Humidity(%)'].describe()\n",
        "# fill with mean\n",
        "data1['Humidity(%)'] = data1['Humidity(%)'].fillna(data1['Humidity(%)'].mean())"
      ],
      "execution_count": 120,
      "outputs": [
        {
          "output_type": "stream",
          "text": [
            "-0.4392109508710671\n",
            "-0.6687309390286242\n"
          ],
          "name": "stdout"
        }
      ]
    },
    {
      "cell_type": "code",
      "metadata": {
        "colab": {
          "base_uri": "https://localhost:8080/"
        },
        "id": "Ek4I0HRZf6i3",
        "outputId": "46821172-ec3b-497e-993b-3f18e6634316"
      },
      "source": [
        "#Temperature\n",
        "print(data1['Temperature(F)'].skew())\n",
        "print(data1['Temperature(F)'].kurt())\n",
        "data1['Temperature(F)'].describe()\n",
        "data1['Temperature(F)'] = data1['Temperature(F)'].fillna(data1['Temperature(F)'].mean())"
      ],
      "execution_count": 121,
      "outputs": [
        {
          "output_type": "stream",
          "text": [
            "-0.4510391972985115\n",
            "-0.05383597208312274\n"
          ],
          "name": "stdout"
        }
      ]
    },
    {
      "cell_type": "code",
      "metadata": {
        "id": "kPSoNQ-800W4"
      },
      "source": [
        "#Wind_Direction\n",
        "data1['Wind_Direction'] = data1['Wind_Direction'].fillna('CALM')"
      ],
      "execution_count": 122,
      "outputs": []
    },
    {
      "cell_type": "code",
      "metadata": {
        "id": "PAYWrubpgQkd",
        "colab": {
          "base_uri": "https://localhost:8080/"
        },
        "outputId": "0683ffcd-ffa1-429c-f560-dc987f4d7014"
      },
      "source": [
        "#Pressure(in)\n",
        "print(data1['Pressure(in)'].skew())\n",
        "print(data1['Pressure(in)'].kurt())\n",
        "data1['Pressure(in)'].describe()\n",
        "data1['Pressure(in)'] = data1['Pressure(in)'].fillna(data1['Pressure(in)'].median())"
      ],
      "execution_count": 123,
      "outputs": [
        {
          "output_type": "stream",
          "text": [
            "-4.3335461972051155\n",
            "30.970454506341582\n"
          ],
          "name": "stdout"
        }
      ]
    },
    {
      "cell_type": "code",
      "metadata": {
        "id": "6j2QNn_X0_Ke"
      },
      "source": [
        "#Weather_Timestamp\n",
        "data1.loc[data1['Weather_Timestamp'].isna(),'Weather_Timestamp']= data1.loc[data1['Weather_Timestamp'].isna(),'Start_Time']\n"
      ],
      "execution_count": 124,
      "outputs": []
    },
    {
      "cell_type": "code",
      "metadata": {
        "id": "TCJKzSNyIGG-"
      },
      "source": [
        "data1 = data1.drop(columns = ['Timezone','Description','Airport_Code'])"
      ],
      "execution_count": 125,
      "outputs": []
    },
    {
      "cell_type": "code",
      "metadata": {
        "id": "IuoClVhM1N1f"
      },
      "source": [
        "data1 = data1[data1['Zipcode'].notna()]"
      ],
      "execution_count": 126,
      "outputs": []
    },
    {
      "cell_type": "code",
      "metadata": {
        "id": "M8HPNUR-IRKq"
      },
      "source": [
        "data1 = data1[data1['Sunrise_Sunset'].notna()]"
      ],
      "execution_count": 127,
      "outputs": []
    },
    {
      "cell_type": "code",
      "metadata": {
        "colab": {
          "base_uri": "https://localhost:8080/"
        },
        "id": "GH-VBgBx34Uh",
        "outputId": "20df2ffd-5382-4187-dd6b-f52196a4047d"
      },
      "source": [
        "((data1.isna().sum()/len(data1))*100).sort_values(ascending = False)"
      ],
      "execution_count": 128,
      "outputs": [
        {
          "output_type": "execute_result",
          "data": {
            "text/plain": [
              "Astronomical_Twilight    0.0\n",
              "Pressure(in)             0.0\n",
              "Temperature(F)           0.0\n",
              "Weather_Timestamp        0.0\n",
              "Country                  0.0\n",
              "Zipcode                  0.0\n",
              "State                    0.0\n",
              "County                   0.0\n",
              "City                     0.0\n",
              "Side                     0.0\n",
              "Street                   0.0\n",
              "Distance(mi)             0.0\n",
              "Start_Lng                0.0\n",
              "Start_Lat                0.0\n",
              "End_Time                 0.0\n",
              "Start_Time               0.0\n",
              "Severity                 0.0\n",
              "TMC                      0.0\n",
              "Source                   0.0\n",
              "Humidity(%)              0.0\n",
              "Visibility(mi)           0.0\n",
              "Nautical_Twilight        0.0\n",
              "Wind_Direction           0.0\n",
              "Civil_Twilight           0.0\n",
              "Sunrise_Sunset           0.0\n",
              "Turning_Loop             0.0\n",
              "Traffic_Signal           0.0\n",
              "Traffic_Calming          0.0\n",
              "Stop                     0.0\n",
              "Station                  0.0\n",
              "Roundabout               0.0\n",
              "Railway                  0.0\n",
              "No_Exit                  0.0\n",
              "Junction                 0.0\n",
              "Give_Way                 0.0\n",
              "Crossing                 0.0\n",
              "Bump                     0.0\n",
              "Amenity                  0.0\n",
              "Weather_Condition        0.0\n",
              "Wind_Speed(mph)          0.0\n",
              "ID                       0.0\n",
              "dtype: float64"
            ]
          },
          "metadata": {
            "tags": []
          },
          "execution_count": 128
        }
      ]
    },
    {
      "cell_type": "code",
      "metadata": {
        "id": "TeVLokIK4GYL"
      },
      "source": [
        "new_data = data1.to_csv('new_data.csv')"
      ],
      "execution_count": 129,
      "outputs": []
    },
    {
      "cell_type": "markdown",
      "metadata": {
        "id": "tqobfDdkKUjR"
      },
      "source": [
        "Deal with features"
      ]
    },
    {
      "cell_type": "code",
      "metadata": {
        "id": "2p1jKueUKltm"
      },
      "source": [
        "new_data.index = new_data['ID']"
      ],
      "execution_count": 7,
      "outputs": []
    },
    {
      "cell_type": "code",
      "metadata": {
        "id": "9JZ9c1h1LhTU"
      },
      "source": [
        "new_data = new_data.drop(columns = ['ID'])"
      ],
      "execution_count": 10,
      "outputs": []
    },
    {
      "cell_type": "code",
      "metadata": {
        "id": "oJcnTwWxLyq3"
      },
      "source": [
        "#source\n",
        "new_data = new_data.drop(columns = ['Source'])"
      ],
      "execution_count": 12,
      "outputs": []
    },
    {
      "cell_type": "code",
      "metadata": {
        "id": "zRWvRuXHOqu5"
      },
      "source": [
        "# no use\n",
        "new_data = new_data.drop(columns = ['Street','Country'])"
      ],
      "execution_count": 13,
      "outputs": []
    },
    {
      "cell_type": "code",
      "metadata": {
        "id": "_Pg15DR_MJIQ"
      },
      "source": [
        "# categorial data\n",
        "# 'Street', 'Side','City','State','Country','Wind_Direction','Weather_Condition','Sunrise_Sunset','Civil_Twilight','Nautical_Twilight','Astronomical_Twilight'\n",
        "new_data['Nautical_Twilight'] = new_data['Nautical_Twilight'].replace({'Day':1,'Night':0})\n",
        "new_data['Civil_Twilight'] = new_data['Civil_Twilight'].replace({'Day':1,'Night':0})\n",
        "new_data['Sunrise_Sunset'] = new_data['Sunrise_Sunset'].replace({'Day':1,'Night':0})\n",
        "new_data['Astronomical_Twilight'] = new_data['Astronomical_Twilight'].replace({'Day':1,'Night':0})\n"
      ],
      "execution_count": 17,
      "outputs": []
    },
    {
      "cell_type": "code",
      "metadata": {
        "id": "yOBCqA4kShY3"
      },
      "source": [
        "new_data['Side'] =new_data['Side'].replace({'R':1,'L':0,' ':2})"
      ],
      "execution_count": 36,
      "outputs": []
    },
    {
      "cell_type": "code",
      "metadata": {
        "id": "gKEkdTSOS1Ye"
      },
      "source": [
        "# don't need city, since we have geographic data \n",
        "new_data = new_data.drop(columns = ['City','County'])"
      ],
      "execution_count": 41,
      "outputs": []
    },
    {
      "cell_type": "code",
      "metadata": {
        "id": "Cu3xy4ogR3Eh"
      },
      "source": [
        "new_data['Weather_Condition']=new_data['Weather_Condition'].astype('category').cat.codes\n",
        "new_data['Wind_Direction']=new_data['Wind_Direction'].astype('category').cat.codes\n",
        "new_data['State']=new_data['State'].astype('category').cat.codes"
      ],
      "execution_count": 33,
      "outputs": []
    },
    {
      "cell_type": "code",
      "metadata": {
        "id": "Vc6dbLjeM830"
      },
      "source": [
        "# boolean\n",
        "# Amenity\tBump\tCrossing\tGive_Way\tJunction\tNo_Exit\tRailway\tRoundabout\tStation\tStop\tTraffic_Calming\tTraffic_Signal\tTurning_Loo\n",
        "bl = ['Amenity',\t'Bump','Crossing',\t'Give_Way',\t'Junction',\t'No_Exit',\t'Railway',\t'Roundabout',\t'Station',\t'Stop',\t'Traffic_Calming','Traffic_Signal',\t'Turning_Loop']\n",
        "for i in bl:\n",
        "  new_data[i] = new_data[i]*1"
      ],
      "execution_count": 27,
      "outputs": []
    },
    {
      "cell_type": "code",
      "metadata": {
        "id": "BPcUyssZM87C"
      },
      "source": [
        "# date\n",
        "new_data['Start_Time'] = pd.to_datetime(new_data['Start_Time'])\n",
        "new_data['End_Time'] = pd.to_datetime(new_data['End_Time'])\n",
        "new_data['Weather_Timestamp'] = pd.to_datetime(new_data['Weather_Timestamp'])\n",
        "# drop weather_timestamp\n",
        "new_data=new_data.drop(columns = ['Weather_Timestamp'])"
      ],
      "execution_count": 47,
      "outputs": []
    },
    {
      "cell_type": "code",
      "metadata": {
        "id": "JLT1D-AiWH3n"
      },
      "source": [
        "new_data['process_time'] = ((new_data['End_Time']-new_data['Start_Time'])/np.timedelta64(1, \"s\"))/3600\n",
        "new_data = new_data.drop(columns = ['End_Time'])"
      ],
      "execution_count": 63,
      "outputs": []
    },
    {
      "cell_type": "code",
      "metadata": {
        "id": "TY8N0-geM8-Z"
      },
      "source": [
        "#location\n",
        "new_data['Zipcode'] = new_data['Zipcode'].str[:5].astype(int)"
      ],
      "execution_count": 69,
      "outputs": []
    },
    {
      "cell_type": "code",
      "metadata": {
        "colab": {
          "base_uri": "https://localhost:8080/"
        },
        "id": "EB8AoqHFTBoS",
        "outputId": "7acdc7dd-2d90-415b-f3b4-e42a2cf769ee"
      },
      "source": [
        "new_data.info()"
      ],
      "execution_count": 70,
      "outputs": [
        {
          "output_type": "stream",
          "text": [
            "<class 'pandas.core.frame.DataFrame'>\n",
            "Index: 4231108 entries, A-1 to A-4239406\n",
            "Data columns (total 34 columns):\n",
            " #   Column                 Dtype         \n",
            "---  ------                 -----         \n",
            " 0   TMC                    float64       \n",
            " 1   Severity               int64         \n",
            " 2   Start_Time             datetime64[ns]\n",
            " 3   Start_Lat              float64       \n",
            " 4   Start_Lng              float64       \n",
            " 5   Distance(mi)           float64       \n",
            " 6   Side                   int64         \n",
            " 7   State                  int8          \n",
            " 8   Zipcode                int64         \n",
            " 9   Temperature(F)         float64       \n",
            " 10  Humidity(%)            float64       \n",
            " 11  Pressure(in)           float64       \n",
            " 12  Visibility(mi)         float64       \n",
            " 13  Wind_Direction         int8          \n",
            " 14  Wind_Speed(mph)        float64       \n",
            " 15  Weather_Condition      int16         \n",
            " 16  Amenity                int64         \n",
            " 17  Bump                   int64         \n",
            " 18  Crossing               int64         \n",
            " 19  Give_Way               int64         \n",
            " 20  Junction               int64         \n",
            " 21  No_Exit                int64         \n",
            " 22  Railway                int64         \n",
            " 23  Roundabout             int64         \n",
            " 24  Station                int64         \n",
            " 25  Stop                   int64         \n",
            " 26  Traffic_Calming        int64         \n",
            " 27  Traffic_Signal         int64         \n",
            " 28  Turning_Loop           int64         \n",
            " 29  Sunrise_Sunset         int64         \n",
            " 30  Civil_Twilight         int64         \n",
            " 31  Nautical_Twilight      int64         \n",
            " 32  Astronomical_Twilight  int64         \n",
            " 33  process_time           float64       \n",
            "dtypes: datetime64[ns](1), float64(10), int16(1), int64(20), int8(2)\n",
            "memory usage: 1.2+ GB\n"
          ],
          "name": "stdout"
        }
      ]
    },
    {
      "cell_type": "code",
      "metadata": {
        "colab": {
          "base_uri": "https://localhost:8080/",
          "height": 340
        },
        "id": "iuYThDQkWEaS",
        "outputId": "1837e77d-d94c-4791-f387-ec72fe3fbd5e"
      },
      "source": [
        "new_data.head()"
      ],
      "execution_count": 71,
      "outputs": [
        {
          "output_type": "execute_result",
          "data": {
            "text/html": [
              "<div>\n",
              "<style scoped>\n",
              "    .dataframe tbody tr th:only-of-type {\n",
              "        vertical-align: middle;\n",
              "    }\n",
              "\n",
              "    .dataframe tbody tr th {\n",
              "        vertical-align: top;\n",
              "    }\n",
              "\n",
              "    .dataframe thead th {\n",
              "        text-align: right;\n",
              "    }\n",
              "</style>\n",
              "<table border=\"1\" class=\"dataframe\">\n",
              "  <thead>\n",
              "    <tr style=\"text-align: right;\">\n",
              "      <th></th>\n",
              "      <th>TMC</th>\n",
              "      <th>Severity</th>\n",
              "      <th>Start_Time</th>\n",
              "      <th>Start_Lat</th>\n",
              "      <th>Start_Lng</th>\n",
              "      <th>Distance(mi)</th>\n",
              "      <th>Side</th>\n",
              "      <th>State</th>\n",
              "      <th>Zipcode</th>\n",
              "      <th>Temperature(F)</th>\n",
              "      <th>Humidity(%)</th>\n",
              "      <th>Pressure(in)</th>\n",
              "      <th>Visibility(mi)</th>\n",
              "      <th>Wind_Direction</th>\n",
              "      <th>Wind_Speed(mph)</th>\n",
              "      <th>Weather_Condition</th>\n",
              "      <th>Amenity</th>\n",
              "      <th>Bump</th>\n",
              "      <th>Crossing</th>\n",
              "      <th>Give_Way</th>\n",
              "      <th>Junction</th>\n",
              "      <th>No_Exit</th>\n",
              "      <th>Railway</th>\n",
              "      <th>Roundabout</th>\n",
              "      <th>Station</th>\n",
              "      <th>Stop</th>\n",
              "      <th>Traffic_Calming</th>\n",
              "      <th>Traffic_Signal</th>\n",
              "      <th>Turning_Loop</th>\n",
              "      <th>Sunrise_Sunset</th>\n",
              "      <th>Civil_Twilight</th>\n",
              "      <th>Nautical_Twilight</th>\n",
              "      <th>Astronomical_Twilight</th>\n",
              "      <th>process_time</th>\n",
              "    </tr>\n",
              "    <tr>\n",
              "      <th>ID</th>\n",
              "      <th></th>\n",
              "      <th></th>\n",
              "      <th></th>\n",
              "      <th></th>\n",
              "      <th></th>\n",
              "      <th></th>\n",
              "      <th></th>\n",
              "      <th></th>\n",
              "      <th></th>\n",
              "      <th></th>\n",
              "      <th></th>\n",
              "      <th></th>\n",
              "      <th></th>\n",
              "      <th></th>\n",
              "      <th></th>\n",
              "      <th></th>\n",
              "      <th></th>\n",
              "      <th></th>\n",
              "      <th></th>\n",
              "      <th></th>\n",
              "      <th></th>\n",
              "      <th></th>\n",
              "      <th></th>\n",
              "      <th></th>\n",
              "      <th></th>\n",
              "      <th></th>\n",
              "      <th></th>\n",
              "      <th></th>\n",
              "      <th></th>\n",
              "      <th></th>\n",
              "      <th></th>\n",
              "      <th></th>\n",
              "      <th></th>\n",
              "      <th></th>\n",
              "    </tr>\n",
              "  </thead>\n",
              "  <tbody>\n",
              "    <tr>\n",
              "      <th>A-1</th>\n",
              "      <td>201.0</td>\n",
              "      <td>3</td>\n",
              "      <td>2016-02-08 05:46:00</td>\n",
              "      <td>39.865147</td>\n",
              "      <td>-84.058723</td>\n",
              "      <td>0.01</td>\n",
              "      <td>1</td>\n",
              "      <td>33</td>\n",
              "      <td>45424</td>\n",
              "      <td>36.9</td>\n",
              "      <td>91.0</td>\n",
              "      <td>29.68</td>\n",
              "      <td>10.0</td>\n",
              "      <td>1</td>\n",
              "      <td>7.0</td>\n",
              "      <td>55</td>\n",
              "      <td>0</td>\n",
              "      <td>0</td>\n",
              "      <td>0</td>\n",
              "      <td>0</td>\n",
              "      <td>0</td>\n",
              "      <td>0</td>\n",
              "      <td>0</td>\n",
              "      <td>0</td>\n",
              "      <td>0</td>\n",
              "      <td>0</td>\n",
              "      <td>0</td>\n",
              "      <td>0</td>\n",
              "      <td>0</td>\n",
              "      <td>0</td>\n",
              "      <td>0</td>\n",
              "      <td>0</td>\n",
              "      <td>0</td>\n",
              "      <td>5.233333</td>\n",
              "    </tr>\n",
              "    <tr>\n",
              "      <th>A-2</th>\n",
              "      <td>201.0</td>\n",
              "      <td>2</td>\n",
              "      <td>2016-02-08 06:07:59</td>\n",
              "      <td>39.928059</td>\n",
              "      <td>-82.831184</td>\n",
              "      <td>0.01</td>\n",
              "      <td>0</td>\n",
              "      <td>33</td>\n",
              "      <td>43068</td>\n",
              "      <td>37.9</td>\n",
              "      <td>100.0</td>\n",
              "      <td>29.65</td>\n",
              "      <td>10.0</td>\n",
              "      <td>1</td>\n",
              "      <td>7.0</td>\n",
              "      <td>55</td>\n",
              "      <td>0</td>\n",
              "      <td>0</td>\n",
              "      <td>0</td>\n",
              "      <td>0</td>\n",
              "      <td>0</td>\n",
              "      <td>0</td>\n",
              "      <td>0</td>\n",
              "      <td>0</td>\n",
              "      <td>0</td>\n",
              "      <td>0</td>\n",
              "      <td>0</td>\n",
              "      <td>0</td>\n",
              "      <td>0</td>\n",
              "      <td>0</td>\n",
              "      <td>0</td>\n",
              "      <td>0</td>\n",
              "      <td>1</td>\n",
              "      <td>0.500000</td>\n",
              "    </tr>\n",
              "    <tr>\n",
              "      <th>A-3</th>\n",
              "      <td>201.0</td>\n",
              "      <td>2</td>\n",
              "      <td>2016-02-08 06:49:27</td>\n",
              "      <td>39.063148</td>\n",
              "      <td>-84.032608</td>\n",
              "      <td>0.01</td>\n",
              "      <td>1</td>\n",
              "      <td>33</td>\n",
              "      <td>45176</td>\n",
              "      <td>36.0</td>\n",
              "      <td>100.0</td>\n",
              "      <td>29.67</td>\n",
              "      <td>10.0</td>\n",
              "      <td>16</td>\n",
              "      <td>3.5</td>\n",
              "      <td>80</td>\n",
              "      <td>0</td>\n",
              "      <td>0</td>\n",
              "      <td>0</td>\n",
              "      <td>0</td>\n",
              "      <td>0</td>\n",
              "      <td>0</td>\n",
              "      <td>0</td>\n",
              "      <td>0</td>\n",
              "      <td>0</td>\n",
              "      <td>0</td>\n",
              "      <td>0</td>\n",
              "      <td>1</td>\n",
              "      <td>0</td>\n",
              "      <td>0</td>\n",
              "      <td>0</td>\n",
              "      <td>1</td>\n",
              "      <td>1</td>\n",
              "      <td>0.500000</td>\n",
              "    </tr>\n",
              "    <tr>\n",
              "      <th>A-4</th>\n",
              "      <td>201.0</td>\n",
              "      <td>3</td>\n",
              "      <td>2016-02-08 07:23:34</td>\n",
              "      <td>39.747753</td>\n",
              "      <td>-84.205582</td>\n",
              "      <td>0.01</td>\n",
              "      <td>1</td>\n",
              "      <td>33</td>\n",
              "      <td>45417</td>\n",
              "      <td>35.1</td>\n",
              "      <td>96.0</td>\n",
              "      <td>29.64</td>\n",
              "      <td>9.0</td>\n",
              "      <td>16</td>\n",
              "      <td>4.6</td>\n",
              "      <td>77</td>\n",
              "      <td>0</td>\n",
              "      <td>0</td>\n",
              "      <td>0</td>\n",
              "      <td>0</td>\n",
              "      <td>0</td>\n",
              "      <td>0</td>\n",
              "      <td>0</td>\n",
              "      <td>0</td>\n",
              "      <td>0</td>\n",
              "      <td>0</td>\n",
              "      <td>0</td>\n",
              "      <td>0</td>\n",
              "      <td>0</td>\n",
              "      <td>0</td>\n",
              "      <td>1</td>\n",
              "      <td>1</td>\n",
              "      <td>1</td>\n",
              "      <td>0.500000</td>\n",
              "    </tr>\n",
              "    <tr>\n",
              "      <th>A-5</th>\n",
              "      <td>201.0</td>\n",
              "      <td>2</td>\n",
              "      <td>2016-02-08 07:39:07</td>\n",
              "      <td>39.627781</td>\n",
              "      <td>-84.188354</td>\n",
              "      <td>0.01</td>\n",
              "      <td>1</td>\n",
              "      <td>33</td>\n",
              "      <td>45459</td>\n",
              "      <td>36.0</td>\n",
              "      <td>89.0</td>\n",
              "      <td>29.65</td>\n",
              "      <td>6.0</td>\n",
              "      <td>16</td>\n",
              "      <td>3.5</td>\n",
              "      <td>77</td>\n",
              "      <td>0</td>\n",
              "      <td>0</td>\n",
              "      <td>0</td>\n",
              "      <td>0</td>\n",
              "      <td>0</td>\n",
              "      <td>0</td>\n",
              "      <td>0</td>\n",
              "      <td>0</td>\n",
              "      <td>0</td>\n",
              "      <td>0</td>\n",
              "      <td>0</td>\n",
              "      <td>1</td>\n",
              "      <td>0</td>\n",
              "      <td>1</td>\n",
              "      <td>1</td>\n",
              "      <td>1</td>\n",
              "      <td>1</td>\n",
              "      <td>0.500000</td>\n",
              "    </tr>\n",
              "  </tbody>\n",
              "</table>\n",
              "</div>"
            ],
            "text/plain": [
              "       TMC  Severity  ... Astronomical_Twilight  process_time\n",
              "ID                    ...                                    \n",
              "A-1  201.0         3  ...                     0      5.233333\n",
              "A-2  201.0         2  ...                     1      0.500000\n",
              "A-3  201.0         2  ...                     1      0.500000\n",
              "A-4  201.0         3  ...                     1      0.500000\n",
              "A-5  201.0         2  ...                     1      0.500000\n",
              "\n",
              "[5 rows x 34 columns]"
            ]
          },
          "metadata": {
            "tags": []
          },
          "execution_count": 71
        }
      ]
    },
    {
      "cell_type": "code",
      "metadata": {
        "id": "SrR-_nfkWLnU"
      },
      "source": [
        ""
      ],
      "execution_count": null,
      "outputs": []
    }
  ]
}